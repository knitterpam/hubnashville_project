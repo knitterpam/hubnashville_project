{
 "cells": [
  {
   "cell_type": "markdown",
   "metadata": {},
   "source": [
    "### Checkpoints for hubNashville project:\n",
    "- a.  Thursday afternoon (checkpoint 1): what questions would teams like to answer (we'll create assignment repository at this point)\n",
    "- b.  Monday afternoon (checkpoint 2): preliminary findings/what to focus on to add to presentation\n",
    "- c.  Tuesday afternoon (final checkpoint): presentation walkthrough"
   ]
  },
  {
   "cell_type": "markdown",
   "metadata": {},
   "source": [
    "#### TEAM CHEETAH (AMANDA AND PAM)\n",
    "- Look at differences (who is calling and why, % of calls) between requests online (website and app) and phone calls.\n",
    "\n",
    "- Identify differences (time of day/month/year, location, request type, etc.) to focus marketing to direct more users - to online platforms\n",
    "\n",
    "- Are there certain types that lend themselves to reporting through phone, use this as an opportunity to improve or modify online experience for these request types"
   ]
  },
  {
   "cell_type": "markdown",
   "metadata": {},
   "source": [
    "#### ORIGINAL LIST OF IDEAS\n",
    "- `Date/Time` columns need to change to date/time? - mike did this, plus date difference column\n",
    "- Change `Mapped Location` to geo point\n",
    "- `Council District` needs to change to integer\n",
    "- Do we need to keep the nulls? - mike got rid of nulls in certain fields\n",
    "- May need to split date/time, do we need to keep time?\n",
    "- What time of day are most requests opened/closed?\n",
    "- What month has the most requests opened/closed?\n",
    "- How long Open requests have been open, how long have the In Progress have been in progress?\n",
    "- Which cities or zips generate the most requests? (make a map with popup showing type of request)\n",
    "- How many requests were `closed when created`? QUICK REQUESTS\n",
    "- What types of questions come in from the mayor's office as opposed to another `request origin`?\n",
    "- Resident calls (much more) vs. business calls\n",
    "- Would it be beneficial to find out what the \"Other\" is for `Contact Type`? Might be able to add more specific types.\n",
    "- Explore parent requests and see if related to # of child requests or other metric (time taken to close).\n",
    "- Types of request that are most called on (trash) - find keywords to break \"other\" down\n",
    "- for subrequest = quick, request type = quick, no further info -- we recommend use of categories for better description\n",
    "- ** to help move folks to online platforms, look at areas and types that are not currently on online platform -- don't look at hub and mobile app, and see what types of requests, who is calling and why, % of calls\n",
    "- Question - Appendix A of the PDF only shows 5 status types, but the value counts shows 10 types.  Do we want to drop the types that are not listed on the Appendix?"
   ]
  },
  {
   "cell_type": "code",
   "execution_count": 2,
   "metadata": {},
   "outputs": [],
   "source": [
    "from shapely.geometry import Point\n",
    "import pandas as pd\n",
    "import seaborn as sns\n",
    "import geopandas as gpd\n",
    "import matplotlib.pyplot as plt\n",
    "import folium"
   ]
  },
  {
   "cell_type": "code",
   "execution_count": 3,
   "metadata": {},
   "outputs": [
    {
     "name": "stdout",
     "output_type": "stream",
     "text": [
      "(348671, 21)\n"
     ]
    },
    {
     "data": {
      "text/plain": [
       "Request #                       int64\n",
       "Status                         object\n",
       "Request Type                   object\n",
       "Subrequest Type                object\n",
       "Additional Subrequest Type     object\n",
       "Date / Time Opened             object\n",
       "Date / Time Closed             object\n",
       "Request Origin                 object\n",
       "System of Origin ID            object\n",
       "Contact Type                   object\n",
       "Preferred Language            float64\n",
       "State Issue                      bool\n",
       "Parent Request                float64\n",
       "Closed When Created              bool\n",
       "Address                        object\n",
       "City                           object\n",
       "Council District              float64\n",
       "ZIP                            object\n",
       "Latitude                      float64\n",
       "Longitude                     float64\n",
       "Mapped Location                object\n",
       "dtype: object"
      ]
     },
     "execution_count": 3,
     "metadata": {},
     "output_type": "execute_result"
    }
   ],
   "source": [
    "servreq = pd.read_csv('../data/hubNashville__311__Service_Requests.csv', low_memory=False)\n",
    "print(servreq.shape)\n",
    "servreq.head()\n",
    "servreq.dtypes"
   ]
  },
  {
   "cell_type": "code",
   "execution_count": 4,
   "metadata": {},
   "outputs": [
    {
     "name": "stdout",
     "output_type": "stream",
     "text": [
      "<class 'pandas.core.frame.DataFrame'>\n",
      "RangeIndex: 348671 entries, 0 to 348670\n",
      "Data columns (total 21 columns):\n",
      "Request #                     348671 non-null int64\n",
      "Status                        348671 non-null object\n",
      "Request Type                  348603 non-null object\n",
      "Subrequest Type               338024 non-null object\n",
      "Additional Subrequest Type    180510 non-null object\n",
      "Date / Time Opened            348671 non-null object\n",
      "Date / Time Closed            338424 non-null object\n",
      "Request Origin                348671 non-null object\n",
      "System of Origin ID           26398 non-null object\n",
      "Contact Type                  26129 non-null object\n",
      "Preferred Language            0 non-null float64\n",
      "State Issue                   348671 non-null bool\n",
      "Parent Request                3589 non-null float64\n",
      "Closed When Created           348671 non-null bool\n",
      "Address                       285058 non-null object\n",
      "City                          280771 non-null object\n",
      "Council District              280574 non-null float64\n",
      "ZIP                           280675 non-null object\n",
      "Latitude                      284188 non-null float64\n",
      "Longitude                     284188 non-null float64\n",
      "Mapped Location               284188 non-null object\n",
      "dtypes: bool(2), float64(5), int64(1), object(13)\n",
      "memory usage: 51.2+ MB\n"
     ]
    }
   ],
   "source": [
    "servreq.info()"
   ]
  },
  {
   "cell_type": "code",
   "execution_count": 5,
   "metadata": {},
   "outputs": [
    {
     "data": {
      "text/html": [
       "<div>\n",
       "<style scoped>\n",
       "    .dataframe tbody tr th:only-of-type {\n",
       "        vertical-align: middle;\n",
       "    }\n",
       "\n",
       "    .dataframe tbody tr th {\n",
       "        vertical-align: top;\n",
       "    }\n",
       "\n",
       "    .dataframe thead th {\n",
       "        text-align: right;\n",
       "    }\n",
       "</style>\n",
       "<table border=\"1\" class=\"dataframe\">\n",
       "  <thead>\n",
       "    <tr style=\"text-align: right;\">\n",
       "      <th></th>\n",
       "      <th>Request #</th>\n",
       "      <th>Status</th>\n",
       "      <th>Request Type</th>\n",
       "      <th>Subrequest Type</th>\n",
       "      <th>Additional Subrequest Type</th>\n",
       "      <th>Date / Time Opened</th>\n",
       "      <th>Date / Time Closed</th>\n",
       "      <th>Request Origin</th>\n",
       "      <th>System of Origin ID</th>\n",
       "      <th>Contact Type</th>\n",
       "      <th>...</th>\n",
       "      <th>State Issue</th>\n",
       "      <th>Parent Request</th>\n",
       "      <th>Closed When Created</th>\n",
       "      <th>Address</th>\n",
       "      <th>City</th>\n",
       "      <th>Council District</th>\n",
       "      <th>ZIP</th>\n",
       "      <th>Latitude</th>\n",
       "      <th>Longitude</th>\n",
       "      <th>Mapped Location</th>\n",
       "    </tr>\n",
       "  </thead>\n",
       "  <tbody>\n",
       "    <tr>\n",
       "      <td>0</td>\n",
       "      <td>113016</td>\n",
       "      <td>Closed</td>\n",
       "      <td>Trash, Recycling &amp; Litter</td>\n",
       "      <td>Cart Service</td>\n",
       "      <td>Trash - Request an Additional Cart</td>\n",
       "      <td>10/30/2018 01:47:00 PM</td>\n",
       "      <td>03/05/2019 09:35:00 PM</td>\n",
       "      <td>Phone</td>\n",
       "      <td>NaN</td>\n",
       "      <td>NaN</td>\n",
       "      <td>...</td>\n",
       "      <td>False</td>\n",
       "      <td>NaN</td>\n",
       "      <td>False</td>\n",
       "      <td>2009 Upland Dr</td>\n",
       "      <td>NASHVILLE</td>\n",
       "      <td>7.0</td>\n",
       "      <td>37216</td>\n",
       "      <td>36.198638</td>\n",
       "      <td>-86.706659</td>\n",
       "      <td>(36.1986378, -86.7066586)</td>\n",
       "    </tr>\n",
       "    <tr>\n",
       "      <td>1</td>\n",
       "      <td>126185</td>\n",
       "      <td>Closed</td>\n",
       "      <td>Streets, Roads &amp; Sidewalks</td>\n",
       "      <td>Blocking the Right of Way</td>\n",
       "      <td>NaN</td>\n",
       "      <td>12/28/2018 01:04:00 PM</td>\n",
       "      <td>12/28/2018 01:04:00 PM</td>\n",
       "      <td>Phone</td>\n",
       "      <td>OE-00040610_12/27/2018 15:44</td>\n",
       "      <td>NaN</td>\n",
       "      <td>...</td>\n",
       "      <td>False</td>\n",
       "      <td>NaN</td>\n",
       "      <td>True</td>\n",
       "      <td>ELM HILL PKE / DONELSON PKE</td>\n",
       "      <td>NASHVILLE</td>\n",
       "      <td>15.0</td>\n",
       "      <td>37214</td>\n",
       "      <td>36.148809</td>\n",
       "      <td>-86.666282</td>\n",
       "      <td>(36.14880891, -86.6662816)</td>\n",
       "    </tr>\n",
       "    <tr>\n",
       "      <td>2</td>\n",
       "      <td>119344</td>\n",
       "      <td>Closed</td>\n",
       "      <td>Trash, Recycling &amp; Litter</td>\n",
       "      <td>Damage to Property</td>\n",
       "      <td>Trash Service</td>\n",
       "      <td>11/27/2018 02:20:00 PM</td>\n",
       "      <td>11/29/2018 04:04:00 AM</td>\n",
       "      <td>Phone</td>\n",
       "      <td>NaN</td>\n",
       "      <td>NaN</td>\n",
       "      <td>...</td>\n",
       "      <td>False</td>\n",
       "      <td>NaN</td>\n",
       "      <td>True</td>\n",
       "      <td>597 Westchester Dr, Nashville, TN 37115, Unite...</td>\n",
       "      <td>MADISON</td>\n",
       "      <td>8.0</td>\n",
       "      <td>37115</td>\n",
       "      <td>36.263020</td>\n",
       "      <td>-86.738630</td>\n",
       "      <td>(36.26302, -86.73863)</td>\n",
       "    </tr>\n",
       "    <tr>\n",
       "      <td>3</td>\n",
       "      <td>127752</td>\n",
       "      <td>Closed</td>\n",
       "      <td>Trash, Recycling &amp; Litter</td>\n",
       "      <td>New Service/Activate Service</td>\n",
       "      <td>New Construction Residential Recycle</td>\n",
       "      <td>01/03/2019 06:57:00 PM</td>\n",
       "      <td>01/09/2019 10:09:00 AM</td>\n",
       "      <td>Phone</td>\n",
       "      <td>NaN</td>\n",
       "      <td>NaN</td>\n",
       "      <td>...</td>\n",
       "      <td>False</td>\n",
       "      <td>NaN</td>\n",
       "      <td>False</td>\n",
       "      <td>Ruffian Way</td>\n",
       "      <td>NaN</td>\n",
       "      <td>NaN</td>\n",
       "      <td>NaN</td>\n",
       "      <td>38.097609</td>\n",
       "      <td>-84.554097</td>\n",
       "      <td>(38.0976091, -84.5540971)</td>\n",
       "    </tr>\n",
       "    <tr>\n",
       "      <td>4</td>\n",
       "      <td>113477</td>\n",
       "      <td>Closed</td>\n",
       "      <td>Trash, Recycling &amp; Litter</td>\n",
       "      <td>Backdoor Trash or Recycle Waivers</td>\n",
       "      <td>Request Recycling Disability Waiver</td>\n",
       "      <td>10/31/2018 12:20:00 PM</td>\n",
       "      <td>10/31/2018 04:10:00 PM</td>\n",
       "      <td>Phone</td>\n",
       "      <td>NaN</td>\n",
       "      <td>NaN</td>\n",
       "      <td>...</td>\n",
       "      <td>False</td>\n",
       "      <td>NaN</td>\n",
       "      <td>True</td>\n",
       "      <td>2326 Smith Springs Rd, Nashville, TN 37217, Un...</td>\n",
       "      <td>NASHVILLE</td>\n",
       "      <td>29.0</td>\n",
       "      <td>37217</td>\n",
       "      <td>36.096460</td>\n",
       "      <td>-86.637440</td>\n",
       "      <td>(36.09646, -86.63744)</td>\n",
       "    </tr>\n",
       "  </tbody>\n",
       "</table>\n",
       "<p>5 rows × 21 columns</p>\n",
       "</div>"
      ],
      "text/plain": [
       "   Request #  Status                Request Type  \\\n",
       "0     113016  Closed   Trash, Recycling & Litter   \n",
       "1     126185  Closed  Streets, Roads & Sidewalks   \n",
       "2     119344  Closed   Trash, Recycling & Litter   \n",
       "3     127752  Closed   Trash, Recycling & Litter   \n",
       "4     113477  Closed   Trash, Recycling & Litter   \n",
       "\n",
       "                     Subrequest Type            Additional Subrequest Type  \\\n",
       "0                       Cart Service    Trash - Request an Additional Cart   \n",
       "1          Blocking the Right of Way                                   NaN   \n",
       "2                 Damage to Property                         Trash Service   \n",
       "3       New Service/Activate Service  New Construction Residential Recycle   \n",
       "4  Backdoor Trash or Recycle Waivers   Request Recycling Disability Waiver   \n",
       "\n",
       "       Date / Time Opened      Date / Time Closed Request Origin  \\\n",
       "0  10/30/2018 01:47:00 PM  03/05/2019 09:35:00 PM          Phone   \n",
       "1  12/28/2018 01:04:00 PM  12/28/2018 01:04:00 PM          Phone   \n",
       "2  11/27/2018 02:20:00 PM  11/29/2018 04:04:00 AM          Phone   \n",
       "3  01/03/2019 06:57:00 PM  01/09/2019 10:09:00 AM          Phone   \n",
       "4  10/31/2018 12:20:00 PM  10/31/2018 04:10:00 PM          Phone   \n",
       "\n",
       "            System of Origin ID Contact Type  ...  State Issue  \\\n",
       "0                           NaN          NaN  ...        False   \n",
       "1  OE-00040610_12/27/2018 15:44          NaN  ...        False   \n",
       "2                           NaN          NaN  ...        False   \n",
       "3                           NaN          NaN  ...        False   \n",
       "4                           NaN          NaN  ...        False   \n",
       "\n",
       "   Parent Request  Closed When Created  \\\n",
       "0             NaN                False   \n",
       "1             NaN                 True   \n",
       "2             NaN                 True   \n",
       "3             NaN                False   \n",
       "4             NaN                 True   \n",
       "\n",
       "                                             Address       City  \\\n",
       "0                                     2009 Upland Dr  NASHVILLE   \n",
       "1                        ELM HILL PKE / DONELSON PKE  NASHVILLE   \n",
       "2  597 Westchester Dr, Nashville, TN 37115, Unite...    MADISON   \n",
       "3                                        Ruffian Way        NaN   \n",
       "4  2326 Smith Springs Rd, Nashville, TN 37217, Un...  NASHVILLE   \n",
       "\n",
       "  Council District    ZIP   Latitude  Longitude             Mapped Location  \n",
       "0              7.0  37216  36.198638 -86.706659   (36.1986378, -86.7066586)  \n",
       "1             15.0  37214  36.148809 -86.666282  (36.14880891, -86.6662816)  \n",
       "2              8.0  37115  36.263020 -86.738630       (36.26302, -86.73863)  \n",
       "3              NaN    NaN  38.097609 -84.554097   (38.0976091, -84.5540971)  \n",
       "4             29.0  37217  36.096460 -86.637440       (36.09646, -86.63744)  \n",
       "\n",
       "[5 rows x 21 columns]"
      ]
     },
     "execution_count": 5,
     "metadata": {},
     "output_type": "execute_result"
    }
   ],
   "source": [
    "servreq.head()"
   ]
  },
  {
   "cell_type": "code",
   "execution_count": 7,
   "metadata": {},
   "outputs": [
    {
     "data": {
      "text/html": [
       "<div>\n",
       "<style scoped>\n",
       "    .dataframe tbody tr th:only-of-type {\n",
       "        vertical-align: middle;\n",
       "    }\n",
       "\n",
       "    .dataframe tbody tr th {\n",
       "        vertical-align: top;\n",
       "    }\n",
       "\n",
       "    .dataframe thead th {\n",
       "        text-align: right;\n",
       "    }\n",
       "</style>\n",
       "<table border=\"1\" class=\"dataframe\">\n",
       "  <thead>\n",
       "    <tr style=\"text-align: right;\">\n",
       "      <th></th>\n",
       "      <th>Request #</th>\n",
       "      <th>Status</th>\n",
       "      <th>Request Type</th>\n",
       "      <th>Subrequest Type</th>\n",
       "      <th>Additional Subrequest Type</th>\n",
       "      <th>Date / Time Opened</th>\n",
       "      <th>Date / Time Closed</th>\n",
       "      <th>Request Origin</th>\n",
       "      <th>System of Origin ID</th>\n",
       "      <th>Contact Type</th>\n",
       "      <th>...</th>\n",
       "      <th>State Issue</th>\n",
       "      <th>Parent Request</th>\n",
       "      <th>Closed When Created</th>\n",
       "      <th>Address</th>\n",
       "      <th>City</th>\n",
       "      <th>Council District</th>\n",
       "      <th>ZIP</th>\n",
       "      <th>Latitude</th>\n",
       "      <th>Longitude</th>\n",
       "      <th>Mapped Location</th>\n",
       "    </tr>\n",
       "  </thead>\n",
       "  <tbody>\n",
       "    <tr>\n",
       "      <td>5</td>\n",
       "      <td>127499</td>\n",
       "      <td>Closed</td>\n",
       "      <td>Streets, Roads &amp; Sidewalks</td>\n",
       "      <td>Request New Signal</td>\n",
       "      <td>NaN</td>\n",
       "      <td>01/03/2019 07:39:00 AM</td>\n",
       "      <td>01/22/2019 09:01:00 PM</td>\n",
       "      <td>hubNashville Community</td>\n",
       "      <td>NaN</td>\n",
       "      <td>NaN</td>\n",
       "      <td>...</td>\n",
       "      <td>False</td>\n",
       "      <td>NaN</td>\n",
       "      <td>False</td>\n",
       "      <td>Blue Hole Rd &amp; Antioch Pike</td>\n",
       "      <td>ANTIOCH</td>\n",
       "      <td>32.0</td>\n",
       "      <td>37013</td>\n",
       "      <td>36.059970</td>\n",
       "      <td>-86.672119</td>\n",
       "      <td>(36.05997021, -86.6721194)</td>\n",
       "    </tr>\n",
       "    <tr>\n",
       "      <td>6</td>\n",
       "      <td>128356</td>\n",
       "      <td>Closed</td>\n",
       "      <td>Trash, Recycling &amp; Litter</td>\n",
       "      <td>Cart Service</td>\n",
       "      <td>Recycling - Request an Additional Cart</td>\n",
       "      <td>01/05/2019 03:30:00 AM</td>\n",
       "      <td>01/17/2019 10:00:00 AM</td>\n",
       "      <td>hubNashville Community</td>\n",
       "      <td>NaN</td>\n",
       "      <td>NaN</td>\n",
       "      <td>...</td>\n",
       "      <td>False</td>\n",
       "      <td>NaN</td>\n",
       "      <td>False</td>\n",
       "      <td>1513A Wendell Ave</td>\n",
       "      <td>NASHVILLE</td>\n",
       "      <td>7.0</td>\n",
       "      <td>37206</td>\n",
       "      <td>36.193906</td>\n",
       "      <td>-86.710023</td>\n",
       "      <td>(36.1939065, -86.7100229)</td>\n",
       "    </tr>\n",
       "    <tr>\n",
       "      <td>15</td>\n",
       "      <td>114597</td>\n",
       "      <td>Closed</td>\n",
       "      <td>Streets, Roads &amp; Sidewalks</td>\n",
       "      <td>Roadwork Complaint</td>\n",
       "      <td>NaN</td>\n",
       "      <td>11/05/2018 04:38:00 PM</td>\n",
       "      <td>11/20/2018 11:13:00 AM</td>\n",
       "      <td>hubNashville Community</td>\n",
       "      <td>NaN</td>\n",
       "      <td>NaN</td>\n",
       "      <td>...</td>\n",
       "      <td>False</td>\n",
       "      <td>NaN</td>\n",
       "      <td>True</td>\n",
       "      <td>20 Music Cir E, Nashville, TN 37203, United St...</td>\n",
       "      <td>NASHVILLE</td>\n",
       "      <td>19.0</td>\n",
       "      <td>37203</td>\n",
       "      <td>36.151670</td>\n",
       "      <td>-86.789510</td>\n",
       "      <td>(36.15167, -86.78951)</td>\n",
       "    </tr>\n",
       "    <tr>\n",
       "      <td>22</td>\n",
       "      <td>323738</td>\n",
       "      <td>Closed</td>\n",
       "      <td>Other</td>\n",
       "      <td>Mayor's Office Case</td>\n",
       "      <td>NaN</td>\n",
       "      <td>03/10/2020 05:07:20 AM</td>\n",
       "      <td>03/11/2020 07:41:37 PM</td>\n",
       "      <td>hubNashville Community</td>\n",
       "      <td>NaN</td>\n",
       "      <td>NaN</td>\n",
       "      <td>...</td>\n",
       "      <td>False</td>\n",
       "      <td>NaN</td>\n",
       "      <td>False</td>\n",
       "      <td>NaN</td>\n",
       "      <td>NaN</td>\n",
       "      <td>NaN</td>\n",
       "      <td>NaN</td>\n",
       "      <td>NaN</td>\n",
       "      <td>NaN</td>\n",
       "      <td>NaN</td>\n",
       "    </tr>\n",
       "    <tr>\n",
       "      <td>27</td>\n",
       "      <td>127348</td>\n",
       "      <td>Closed</td>\n",
       "      <td>Property Violations</td>\n",
       "      <td>Junk and Debris</td>\n",
       "      <td>NaN</td>\n",
       "      <td>01/02/2019 07:43:00 PM</td>\n",
       "      <td>03/12/2019 08:03:00 AM</td>\n",
       "      <td>hubNashville Community</td>\n",
       "      <td>NaN</td>\n",
       "      <td>NaN</td>\n",
       "      <td>...</td>\n",
       "      <td>False</td>\n",
       "      <td>123149.0</td>\n",
       "      <td>False</td>\n",
       "      <td>5128 Hilson Rd</td>\n",
       "      <td>NASHVILLE</td>\n",
       "      <td>27.0</td>\n",
       "      <td>37211</td>\n",
       "      <td>36.053315</td>\n",
       "      <td>-86.727140</td>\n",
       "      <td>(36.05331531, -86.72714015)</td>\n",
       "    </tr>\n",
       "  </tbody>\n",
       "</table>\n",
       "<p>5 rows × 21 columns</p>\n",
       "</div>"
      ],
      "text/plain": [
       "    Request #  Status                Request Type      Subrequest Type  \\\n",
       "5      127499  Closed  Streets, Roads & Sidewalks   Request New Signal   \n",
       "6      128356  Closed   Trash, Recycling & Litter         Cart Service   \n",
       "15     114597  Closed  Streets, Roads & Sidewalks   Roadwork Complaint   \n",
       "22     323738  Closed                       Other  Mayor's Office Case   \n",
       "27     127348  Closed         Property Violations      Junk and Debris   \n",
       "\n",
       "                Additional Subrequest Type      Date / Time Opened  \\\n",
       "5                                      NaN  01/03/2019 07:39:00 AM   \n",
       "6   Recycling - Request an Additional Cart  01/05/2019 03:30:00 AM   \n",
       "15                                     NaN  11/05/2018 04:38:00 PM   \n",
       "22                                     NaN  03/10/2020 05:07:20 AM   \n",
       "27                                     NaN  01/02/2019 07:43:00 PM   \n",
       "\n",
       "        Date / Time Closed          Request Origin System of Origin ID  \\\n",
       "5   01/22/2019 09:01:00 PM  hubNashville Community                 NaN   \n",
       "6   01/17/2019 10:00:00 AM  hubNashville Community                 NaN   \n",
       "15  11/20/2018 11:13:00 AM  hubNashville Community                 NaN   \n",
       "22  03/11/2020 07:41:37 PM  hubNashville Community                 NaN   \n",
       "27  03/12/2019 08:03:00 AM  hubNashville Community                 NaN   \n",
       "\n",
       "   Contact Type  ...  State Issue  Parent Request  Closed When Created  \\\n",
       "5           NaN  ...        False             NaN                False   \n",
       "6           NaN  ...        False             NaN                False   \n",
       "15          NaN  ...        False             NaN                 True   \n",
       "22          NaN  ...        False             NaN                False   \n",
       "27          NaN  ...        False        123149.0                False   \n",
       "\n",
       "                                              Address       City  \\\n",
       "5                         Blue Hole Rd & Antioch Pike    ANTIOCH   \n",
       "6                                   1513A Wendell Ave  NASHVILLE   \n",
       "15  20 Music Cir E, Nashville, TN 37203, United St...  NASHVILLE   \n",
       "22                                                NaN        NaN   \n",
       "27                                     5128 Hilson Rd  NASHVILLE   \n",
       "\n",
       "   Council District    ZIP   Latitude  Longitude              Mapped Location  \n",
       "5              32.0  37013  36.059970 -86.672119   (36.05997021, -86.6721194)  \n",
       "6               7.0  37206  36.193906 -86.710023    (36.1939065, -86.7100229)  \n",
       "15             19.0  37203  36.151670 -86.789510        (36.15167, -86.78951)  \n",
       "22              NaN    NaN        NaN        NaN                          NaN  \n",
       "27             27.0  37211  36.053315 -86.727140  (36.05331531, -86.72714015)  \n",
       "\n",
       "[5 rows x 21 columns]"
      ]
     },
     "execution_count": 7,
     "metadata": {},
     "output_type": "execute_result"
    }
   ],
   "source": [
    "req_online = servreq[servreq['Request Origin'].isin(['Mobile App', 'hubNashville Community'])]\n",
    "req_online.head(5)"
   ]
  },
  {
   "cell_type": "code",
   "execution_count": 6,
   "metadata": {},
   "outputs": [
    {
     "data": {
      "text/html": [
       "<div>\n",
       "<style scoped>\n",
       "    .dataframe tbody tr th:only-of-type {\n",
       "        vertical-align: middle;\n",
       "    }\n",
       "\n",
       "    .dataframe tbody tr th {\n",
       "        vertical-align: top;\n",
       "    }\n",
       "\n",
       "    .dataframe thead th {\n",
       "        text-align: right;\n",
       "    }\n",
       "</style>\n",
       "<table border=\"1\" class=\"dataframe\">\n",
       "  <thead>\n",
       "    <tr style=\"text-align: right;\">\n",
       "      <th></th>\n",
       "      <th>Council District</th>\n",
       "      <th>Request Origin</th>\n",
       "      <th>0</th>\n",
       "    </tr>\n",
       "  </thead>\n",
       "  <tbody>\n",
       "    <tr>\n",
       "      <td>0</td>\n",
       "      <td>1.0</td>\n",
       "      <td>Email</td>\n",
       "      <td>21</td>\n",
       "    </tr>\n",
       "    <tr>\n",
       "      <td>1</td>\n",
       "      <td>1.0</td>\n",
       "      <td>Mayor's Office</td>\n",
       "      <td>18</td>\n",
       "    </tr>\n",
       "    <tr>\n",
       "      <td>2</td>\n",
       "      <td>1.0</td>\n",
       "      <td>Mobile App</td>\n",
       "      <td>111</td>\n",
       "    </tr>\n",
       "    <tr>\n",
       "      <td>3</td>\n",
       "      <td>1.0</td>\n",
       "      <td>Phone</td>\n",
       "      <td>5780</td>\n",
       "    </tr>\n",
       "    <tr>\n",
       "      <td>4</td>\n",
       "      <td>1.0</td>\n",
       "      <td>Walk-In</td>\n",
       "      <td>1</td>\n",
       "    </tr>\n",
       "    <tr>\n",
       "      <td>5</td>\n",
       "      <td>1.0</td>\n",
       "      <td>hubNashville Community</td>\n",
       "      <td>1175</td>\n",
       "    </tr>\n",
       "    <tr>\n",
       "      <td>6</td>\n",
       "      <td>2.0</td>\n",
       "      <td>Council Member</td>\n",
       "      <td>1</td>\n",
       "    </tr>\n",
       "    <tr>\n",
       "      <td>7</td>\n",
       "      <td>2.0</td>\n",
       "      <td>Council's Website</td>\n",
       "      <td>1</td>\n",
       "    </tr>\n",
       "    <tr>\n",
       "      <td>8</td>\n",
       "      <td>2.0</td>\n",
       "      <td>Email</td>\n",
       "      <td>50</td>\n",
       "    </tr>\n",
       "    <tr>\n",
       "      <td>9</td>\n",
       "      <td>2.0</td>\n",
       "      <td>Mayor's Office</td>\n",
       "      <td>11</td>\n",
       "    </tr>\n",
       "  </tbody>\n",
       "</table>\n",
       "</div>"
      ],
      "text/plain": [
       "   Council District          Request Origin     0\n",
       "0               1.0                   Email    21\n",
       "1               1.0          Mayor's Office    18\n",
       "2               1.0              Mobile App   111\n",
       "3               1.0                   Phone  5780\n",
       "4               1.0                 Walk-In     1\n",
       "5               1.0  hubNashville Community  1175\n",
       "6               2.0          Council Member     1\n",
       "7               2.0       Council's Website     1\n",
       "8               2.0                   Email    50\n",
       "9               2.0          Mayor's Office    11"
      ]
     },
     "execution_count": 6,
     "metadata": {},
     "output_type": "execute_result"
    }
   ],
   "source": [
    "servreq_counts = servreq.groupby(['Council District', 'Request Origin']).size().to_frame().reset_index()\n",
    "servreq_counts.head(10)"
   ]
  },
  {
   "cell_type": "markdown",
   "metadata": {},
   "source": [
    "## Looking at value counts of Request Origin column"
   ]
  },
  {
   "cell_type": "code",
   "execution_count": null,
   "metadata": {},
   "outputs": [],
   "source": [
    "print(servreq['Request Origin'].value_counts())\n",
    "print(type(servreq['Request Origin']))"
   ]
  },
  {
   "cell_type": "code",
   "execution_count": null,
   "metadata": {},
   "outputs": [],
   "source": []
  },
  {
   "cell_type": "code",
   "execution_count": null,
   "metadata": {},
   "outputs": [],
   "source": []
  },
  {
   "cell_type": "code",
   "execution_count": null,
   "metadata": {},
   "outputs": [],
   "source": [
    "print(servreq['Status'].value_counts())\n",
    "print(type(servreq['Status']))"
   ]
  },
  {
   "cell_type": "code",
   "execution_count": null,
   "metadata": {},
   "outputs": [],
   "source": [
    "request_percents = servreq['Request Origin'].value_counts(normalize=True).to_frame().reset_index()\n",
    "request_percents.columns = ['Request Origin Type', 'Percent of Total Requests']\n",
    "request_percents"
   ]
  },
  {
   "cell_type": "code",
   "execution_count": null,
   "metadata": {},
   "outputs": [],
   "source": [
    "request_percents.plot(x='Request Origin Type',\n",
    "                      y='Percent of Total Requests',\n",
    "                      kind='barh')\n",
    "plt.gca().invert_yaxis()\n",
    "plt.title('Percent of Total Requests by Origin')\n",
    "plt.xlabel('Percent of Total Requests')\n",
    "plt.ylabel('Request Origin Type');\n",
    "plt.show()"
   ]
  },
  {
   "cell_type": "code",
   "execution_count": null,
   "metadata": {},
   "outputs": [],
   "source": [
    "subset_app_hub_reqs = servreq.query('Request Origin == ['Mobile App','hubNashville Community'])\n",
    "subset_app_hub_reqs"
   ]
  },
  {
   "cell_type": "code",
   "execution_count": null,
   "metadata": {},
   "outputs": [],
   "source": []
  },
  {
   "cell_type": "code",
   "execution_count": null,
   "metadata": {},
   "outputs": [],
   "source": [
    "print(servreq['Request Type'].value_counts())\n",
    "print(type(servreq['Request Type']))"
   ]
  },
  {
   "cell_type": "code",
   "execution_count": null,
   "metadata": {},
   "outputs": [],
   "source": [
    "print(servreq['Subrequest Type'].value_counts())\n",
    "print(type(servreq['Subrequest Type']))"
   ]
  },
  {
   "cell_type": "markdown",
   "metadata": {},
   "source": [
    "## Looking at value counts of Contact Type column"
   ]
  },
  {
   "cell_type": "code",
   "execution_count": null,
   "metadata": {},
   "outputs": [],
   "source": [
    "print(servreq['Contact Type'].value_counts())\n",
    "print(type(servreq['Contact Type']))"
   ]
  },
  {
   "cell_type": "markdown",
   "metadata": {},
   "source": [
    "#### Contact Type=Other seems to be mostly Request Type of Streets/Roads/Sidewalks.  Not sure what \"other\" is, but not listed as resident or business"
   ]
  },
  {
   "cell_type": "code",
   "execution_count": null,
   "metadata": {},
   "outputs": [],
   "source": [
    "contact_other = servreq.loc[servreq['Contact Type'] == \"Other\"]\n",
    "contact_other.head()"
   ]
  },
  {
   "cell_type": "code",
   "execution_count": null,
   "metadata": {},
   "outputs": [],
   "source": [
    "#use this query as example to subset\n",
    "#mayor_req_types_df = mayors_office_calls.query([mayors_office_calls['Request Type'])"
   ]
  },
  {
   "cell_type": "markdown",
   "metadata": {},
   "source": [
    "Convert date/time fields from object to date/time, then calculate how long a request has been open in a new column, and move the column up to be close to original date/time fields. (code from Mike)"
   ]
  },
  {
   "cell_type": "code",
   "execution_count": null,
   "metadata": {},
   "outputs": [],
   "source": [
    "t1 = pd.to_datetime(servreq['Date / Time Closed'])\n",
    "t2 = pd.to_datetime(servreq['Date / Time Opened'])\n",
    "servreq['time_taken'] = t1-t2\n",
    "\n",
    "# move time_taken column to after time_closed\n",
    "\n",
    "col_name = 'time_taken'\n",
    "hub_time = servreq.pop(col_name)\n",
    "servreq.insert(7, col_name, hub_time)\n",
    "servreq.head()"
   ]
  },
  {
   "cell_type": "markdown",
   "metadata": {},
   "source": [
    "Convert opened/closed columns back to datetime format"
   ]
  },
  {
   "cell_type": "code",
   "execution_count": 8,
   "metadata": {},
   "outputs": [
    {
     "data": {
      "text/plain": [
       "Request #                              int64\n",
       "Status                                object\n",
       "Request Type                          object\n",
       "Subrequest Type                       object\n",
       "Additional Subrequest Type            object\n",
       "Date / Time Opened            datetime64[ns]\n",
       "Date / Time Closed            datetime64[ns]\n",
       "Request Origin                        object\n",
       "System of Origin ID                   object\n",
       "Contact Type                          object\n",
       "Preferred Language                   float64\n",
       "State Issue                             bool\n",
       "Parent Request                       float64\n",
       "Closed When Created                     bool\n",
       "Address                               object\n",
       "City                                  object\n",
       "Council District                     float64\n",
       "ZIP                                   object\n",
       "Latitude                             float64\n",
       "Longitude                            float64\n",
       "Mapped Location                       object\n",
       "dtype: object"
      ]
     },
     "execution_count": 8,
     "metadata": {},
     "output_type": "execute_result"
    }
   ],
   "source": [
    "servreq[\"Date / Time Opened\"]= pd.to_datetime(servreq[\"Date / Time Opened\"])\n",
    "servreq[\"Date / Time Closed\"]= pd.to_datetime(servreq[\"Date / Time Closed\"])\n",
    "servreq.dtypes"
   ]
  },
  {
   "cell_type": "markdown",
   "metadata": {},
   "source": [
    "Break Date/Time Opened to separate year and month"
   ]
  },
  {
   "cell_type": "code",
   "execution_count": null,
   "metadata": {},
   "outputs": [],
   "source": [
    "servreq['date_open'] = pd.to_datetime(servreq['Date / Time Opened'])\n",
    "servreq['year_open'], servreq['monthnum_open'] = servreq['Date / Time Opened'].dt.year,servreq['Date / Time Opened'].dt.month\n",
    "servreq.head(1)"
   ]
  },
  {
   "cell_type": "markdown",
   "metadata": {},
   "source": [
    "Break Date/Time Closed to separate year and month"
   ]
  },
  {
   "cell_type": "code",
   "execution_count": null,
   "metadata": {},
   "outputs": [],
   "source": [
    "servreq['date_closed'] = pd.to_datetime(servreq['Date / Time Closed'])\n",
    "servreq['year_closed'], servreq['monthnum_closed'] = servreq['Date / Time Closed'].dt.year,servreq['Date / Time Closed'].dt.month\n",
    "servreq.head(1)"
   ]
  },
  {
   "cell_type": "code",
   "execution_count": null,
   "metadata": {},
   "outputs": [],
   "source": [
    "servreq['monthnum_open'].value_counts()"
   ]
  },
  {
   "cell_type": "code",
   "execution_count": null,
   "metadata": {},
   "outputs": [],
   "source": [
    "servreq.sort_values(by = 'monthnum_open', ascending = True).head(1)"
   ]
  },
  {
   "cell_type": "markdown",
   "metadata": {},
   "source": [
    "### take a look at `Council District` info"
   ]
  },
  {
   "cell_type": "code",
   "execution_count": null,
   "metadata": {},
   "outputs": [],
   "source": [
    "servreq['Council District'].value_counts()"
   ]
  },
  {
   "cell_type": "code",
   "execution_count": null,
   "metadata": {},
   "outputs": [],
   "source": [
    "median_district = servreq['Council District'].describe()\n",
    "print(median_district)"
   ]
  },
  {
   "cell_type": "code",
   "execution_count": null,
   "metadata": {},
   "outputs": [],
   "source": [
    "district_19 = servreq.loc[servreq['Council District'] == 19.0].head()\n",
    "print(district_19.shape)\n",
    "district_19.head()\n",
    "# mask_2009 = gdp_and_internet_use_df['Year'] == 2009\n",
    "# mask_2009_df = gdp_and_internet_use_df [mask_2009]\n",
    "# print(mask_2009_df.head())"
   ]
  },
  {
   "cell_type": "code",
   "execution_count": null,
   "metadata": {},
   "outputs": [],
   "source": [
    "councildist_df = gpd.read_file('../data/councildist_df.geojson')\n",
    "print(councildist_df.crs)\n",
    "councildist_df.head()"
   ]
  },
  {
   "cell_type": "code",
   "execution_count": null,
   "metadata": {},
   "outputs": [],
   "source": [
    "councildist_df.crs = \"EPSG:4326\"\n",
    "print(councildist_df.crs)\n",
    "councildist_df.head()"
   ]
  },
  {
   "cell_type": "code",
   "execution_count": null,
   "metadata": {},
   "outputs": [],
   "source": [
    "councildist_df = councildist_df[['council_district', 'geometry']]\n",
    "#councildist_df.head(1)"
   ]
  },
  {
   "cell_type": "code",
   "execution_count": null,
   "metadata": {},
   "outputs": [],
   "source": [
    "map_nulls_cd = servreq['Council District'].isnull()\n",
    "map_nulls_cd.value_counts()"
   ]
  },
  {
   "cell_type": "code",
   "execution_count": null,
   "metadata": {},
   "outputs": [],
   "source": [
    "leg_kwds = {'title': 'Nashville Metro Council Districts', 'loc': 'upper left', \n",
    "            'bbox_to_anchor': (1, 1), 'ncol': 3}\n",
    "\n",
    "councildist_df.plot(column = 'council_district', figsize=(10, 10),\n",
    "                edgecolor = 'black',\n",
    "                legend = True, legend_kwds = leg_kwds,\n",
    "                cmap = 'Set2_r')\n",
    "plt.grid()\n",
    "plt.title('Nashville Metro Council Districts')\n",
    "plt.show()"
   ]
  },
  {
   "cell_type": "code",
   "execution_count": null,
   "metadata": {},
   "outputs": [],
   "source": [
    "# cat's code for map, change to req_online\n",
    "\n",
    "# covid_by_zip = covid_19_geo.groupby(['ZIP']).count()\n",
    "# covid_by_zip = covid_by_zip.reset_index()\n",
    "# covid_by_zip = covid_by_zip[['ZIP', 'Request Type']]\n",
    "# covid_by_zip.head()\n",
    "# merge_by_zip = pd.merge(zipcodes, covid_by_zip, left_on = 'zip', right_on = 'ZIP')\n",
    "# map_nash_cov = folium.Map(location = [36.1227, -86.8269] , zoom_start = 10)\n",
    "# marker_cluster = MarkerCluster().add_to(map_nash_cov)\n",
    "# folium.GeoJson(zipcodes).add_to(map_nash_cov)\n",
    "# #iterate through covid_19_geo to create locations and markers for each covid-related request\n",
    "# for row_index, row_values in covid_19_geo.iterrows():\n",
    "#     loc = [row_values['Latitude'], row_values['Longitude']]\n",
    "#     pop = str(row_values['Subrequest Type'])\n",
    "#     marker = folium.Marker(\n",
    "#         location = loc,\n",
    "#         popup = pop)\n",
    "#     marker.add_to(marker_cluster)\n",
    "# map_nash_cov.save('../maps/map_nash_cov.html')\n",
    "# #display our map\n",
    "# map_nash_cov"
   ]
  },
  {
   "cell_type": "code",
   "execution_count": null,
   "metadata": {},
   "outputs": [],
   "source": []
  },
  {
   "cell_type": "code",
   "execution_count": null,
   "metadata": {},
   "outputs": [],
   "source": []
  },
  {
   "cell_type": "code",
   "execution_count": null,
   "metadata": {},
   "outputs": [],
   "source": []
  },
  {
   "cell_type": "code",
   "execution_count": null,
   "metadata": {},
   "outputs": [],
   "source": []
  },
  {
   "cell_type": "code",
   "execution_count": null,
   "metadata": {},
   "outputs": [],
   "source": []
  },
  {
   "cell_type": "code",
   "execution_count": null,
   "metadata": {},
   "outputs": [],
   "source": []
  },
  {
   "cell_type": "code",
   "execution_count": null,
   "metadata": {},
   "outputs": [],
   "source": []
  },
  {
   "cell_type": "markdown",
   "metadata": {},
   "source": [
    "#### (NOT PURSUING THIS LINE OF ANALYSIS CURRENTLY) Looking at Request Origin of Mayor's Office only"
   ]
  },
  {
   "cell_type": "code",
   "execution_count": null,
   "metadata": {},
   "outputs": [],
   "source": [
    "mayors_office_calls = servreq.loc[servreq['Request Origin'] == \"Mayor's Office\"]\n",
    "mayors_office_calls.head()\n",
    "#mayors_office_calls.tail()"
   ]
  },
  {
   "cell_type": "markdown",
   "metadata": {},
   "source": [
    "#### (NOT PURSUING THIS LINE OF ANALYSIS CURRENTLY) Found no open calls to mayor's office"
   ]
  },
  {
   "cell_type": "code",
   "execution_count": null,
   "metadata": {},
   "outputs": [],
   "source": [
    "mayor_calls_open = mayors_office_calls.query('Status == False')\n",
    "mayor_calls_open.head()"
   ]
  },
  {
   "cell_type": "markdown",
   "metadata": {},
   "source": [
    "#### (NOT PURSUING THIS LINE OF ANALYSIS CURRENTLY) trying to pull list of what types of requests from mayors_office_calls"
   ]
  },
  {
   "cell_type": "code",
   "execution_count": null,
   "metadata": {},
   "outputs": [],
   "source": [
    "mayors_office_calls['Request Type'].value_counts()"
   ]
  },
  {
   "cell_type": "markdown",
   "metadata": {},
   "source": [
    "#### Nearly 25% of the Council District and City columns are Nan or empty \n",
    "### USE FILLNA to fill the nan/nulls with spaces:\n",
    "df.column = df.column.fillna(' ')\n",
    "### OR fix apostrophes or other string issues with:\n",
    "df.column = df.column.str.replace(\"'\", \"`\")\n"
   ]
  },
  {
   "cell_type": "code",
   "execution_count": null,
   "metadata": {},
   "outputs": [],
   "source": [
    "map_nulls_city = servreq['City'].isnull()\n",
    "map_nulls_city.value_counts()\n",
    "#map_nulls_city.head(10)"
   ]
  }
 ],
 "metadata": {
  "kernelspec": {
   "display_name": "Python 3",
   "language": "python",
   "name": "python3"
  },
  "language_info": {
   "codemirror_mode": {
    "name": "ipython",
    "version": 3
   },
   "file_extension": ".py",
   "mimetype": "text/x-python",
   "name": "python",
   "nbconvert_exporter": "python",
   "pygments_lexer": "ipython3",
   "version": "3.7.4"
  }
 },
 "nbformat": 4,
 "nbformat_minor": 2
}
